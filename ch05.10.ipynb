{
 "cells": [
  {
   "cell_type": "code",
   "execution_count": 44,
   "metadata": {},
   "outputs": [
    {
     "name": "stdout",
     "output_type": "stream",
     "text": [
      "[('this', 'DT'), ('is', 'BEZ'), ('a', 'AT'), ('test', 'NN'), ('gargantuan', 'JJ'), ('hungry', 'JJ'), ('hunter', None)]\n"
     ]
    }
   ],
   "source": [
    "#Train a unigram tagger and run it on some new text. \n",
    "#Observe that some words are not assigned a tag. Why not?\n",
    "#If its not in the training data it won't be there\n",
    "\n",
    "\n",
    "import nltk\n",
    "from nltk.corpus import brown\n",
    "\n",
    "testList= [\"this\", \"is\", \"a\", \"test\", 'gargantuan', \"hungry\", \"hunter\"]\n",
    "\n",
    "brown_tagged_sents = brown.tagged_sents(categories='belles_lettres')\n",
    "brown_sents = brown.sents(categories='belles_lettres')\n",
    "unigram_tagger = nltk.UnigramTagger(brown_tagged_sents)\n",
    "unigram_tagger.tag(testList)\n",
    "\n",
    "print(unigram_tagger.tag(testList))\n",
    "\n",
    "\n",
    "def wordCounter(target):\n",
    "    hits = 0\n",
    "    misses = 0\n",
    "    for x in brown.words():\n",
    "        if x == target:\n",
    "            hits+=1\n",
    "\n",
    "        else:\n",
    "            misses+=1\n",
    "\n",
    "    print(\"hits \" + str(hits) + \" misses \" + str(misses))\n",
    "\n",
    "\n",
    "\n",
    "\n"
   ]
  },
  {
   "cell_type": "code",
   "execution_count": null,
   "metadata": {
    "collapsed": true
   },
   "outputs": [],
   "source": []
  }
 ],
 "metadata": {
  "kernelspec": {
   "display_name": "Python 3",
   "language": "python",
   "name": "python3"
  },
  "language_info": {
   "codemirror_mode": {
    "name": "ipython",
    "version": 3
   },
   "file_extension": ".py",
   "mimetype": "text/x-python",
   "name": "python",
   "nbconvert_exporter": "python",
   "pygments_lexer": "ipython3",
   "version": "3.6.2"
  }
 },
 "nbformat": 4,
 "nbformat_minor": 2
}
