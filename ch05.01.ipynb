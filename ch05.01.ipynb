{
 "cells": [
  {
   "cell_type": "code",
   "execution_count": 3,
   "metadata": {},
   "outputs": [
    {
     "data": {
      "text/plain": [
       "[('he', 'PRP'), ('acted', 'VBD'), ('very', 'RB'), ('juvenile', 'JJ')]"
      ]
     },
     "execution_count": 3,
     "metadata": {},
     "output_type": "execute_result"
    }
   ],
   "source": [
    "#Search the web for \"spoof newspaper headlines\", to find such gems as: \n",
    "#British Left Waffles on Falkland Islands, and Juvenile Court to Try \n",
    "#Shooting Defendant. Manually tag these headlines to see if knowledge \n",
    "#of the part-of-speech tags removes the ambiguity.\n",
    "\n",
    "import nltk\n",
    "from nltk import word_tokenize\n",
    "\n",
    "first = \"White House To Arm Every School Child In America With Shoulder Fired Missile Launcher\"\n",
    "second = \"Game show contestant told he's not allowed to ignore the studio audience's mindless shouting\"\n",
    "third = \"Depressed Mould Experiences Back-To-Work Blues\"\n",
    "exampleOne = word_tokenize(\"he acted very juvenile\")\n",
    "exampleTwo = word_tokenize(\"Juvenile Court to Try Shooting Defendant\") #Adj, noun,  , verb, adj, noun\n",
    "#nltk.pos_tag(exampleTwo)\n",
    "nltk.pos_tag(exampleOne)\n",
    "\n"
   ]
  }
 ],
 "metadata": {
  "kernelspec": {
   "display_name": "Python 3",
   "language": "python",
   "name": "python3"
  },
  "language_info": {
   "codemirror_mode": {
    "name": "ipython",
    "version": 3
   },
   "file_extension": ".py",
   "mimetype": "text/x-python",
   "name": "python",
   "nbconvert_exporter": "python",
   "pygments_lexer": "ipython3",
   "version": "3.6.2"
  }
 },
 "nbformat": 4,
 "nbformat_minor": 2
}
