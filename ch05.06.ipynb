{
 "cells": [
  {
   "cell_type": "code",
   "execution_count": 1,
   "metadata": {},
   "outputs": [
    {
     "name": "stdout",
     "output_type": "stream",
     "text": [
      "{'one': 1, 'two': 2, 'three': 3}\n",
      "{'two': 2, 'three': 3}\n"
     ]
    }
   ],
   "source": [
    "#Try deleting an element from a dictionary d, using the syntax del \n",
    "#d['abc']. Check that the item was deleted.\n",
    "\n",
    "d ={}\n",
    "d['one']=1\n",
    "d['two']=2\n",
    "d['three']=3\n",
    "print(d)\n",
    "del d['one']\n",
    "print(d)\n"
   ]
  }
 ],
 "metadata": {
  "kernelspec": {
   "display_name": "Python 3",
   "language": "python",
   "name": "python3"
  },
  "language_info": {
   "codemirror_mode": {
    "name": "ipython",
    "version": 3
   },
   "file_extension": ".py",
   "mimetype": "text/x-python",
   "name": "python",
   "nbconvert_exporter": "python",
   "pygments_lexer": "ipython3",
   "version": "3.6.2"
  }
 },
 "nbformat": 4,
 "nbformat_minor": 2
}
