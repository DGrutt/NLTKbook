{
 "cells": [
  {
   "cell_type": "code",
   "execution_count": 6,
   "metadata": {},
   "outputs": [
    {
     "name": "stdout",
     "output_type": "stream",
     "text": [
      "{'one': 1, 'two': 2}\n",
      "{'bear': 'mammal', 'trout': 'fish'}\n",
      "{'one': 1, 'two': 2, 'bear': 'mammal', 'trout': 'fish'}\n",
      "{'bear': 'mammal', 'trout': 'fish'}\n"
     ]
    }
   ],
   "source": [
    "#Create two dictionaries, d1 and d2, and add some entries to each. Now \n",
    "#issue the command d1.update(d2). What did this do? What might it be \n",
    "#useful for?\n",
    "\n",
    "d1={}\n",
    "d2={}\n",
    "\n",
    "d1['one']=1\n",
    "d1['two']=2\n",
    "d2['bear']='mammal'\n",
    "d2['trout']='fish'\n",
    "print(d1)\n",
    "print(d2)\n",
    "d1.update(d2)\n",
    "print(d1)\n",
    "print(d2)"
   ]
  }
 ],
 "metadata": {
  "kernelspec": {
   "display_name": "Python 3",
   "language": "python",
   "name": "python3"
  },
  "language_info": {
   "codemirror_mode": {
    "name": "ipython",
    "version": 3
   },
   "file_extension": ".py",
   "mimetype": "text/x-python",
   "name": "python",
   "nbconvert_exporter": "python",
   "pygments_lexer": "ipython3",
   "version": "3.6.2"
  }
 },
 "nbformat": 4,
 "nbformat_minor": 2
}
