{
 "cells": [
  {
   "cell_type": "code",
   "execution_count": 13,
   "metadata": {
    "collapsed": false
   },
   "outputs": [
    {
     "name": "stdout",
     "output_type": "stream",
     "text": [
      "Naive Bayes Algo accuracy percent: 72.0\n",
      "Most Informative Features\n",
      "                    hers = True              pos : neg    =     10.3 : 1.0\n",
      "                 detract = True              pos : neg    =      8.3 : 1.0\n",
      "              weaknesses = True              pos : neg    =      8.3 : 1.0\n",
      "               behaviour = True              pos : neg    =      7.7 : 1.0\n",
      "                supports = True              pos : neg    =      7.0 : 1.0\n",
      "               strongest = True              pos : neg    =      7.0 : 1.0\n",
      "               dismissed = True              pos : neg    =      7.0 : 1.0\n",
      "             fulfillment = True              pos : neg    =      7.0 : 1.0\n",
      "             wonderfully = True              pos : neg    =      6.8 : 1.0\n",
      "             bruckheimer = True              neg : pos    =      6.3 : 1.0\n",
      "                  shoddy = True              neg : pos    =      6.3 : 1.0\n",
      "                 outlook = True              pos : neg    =      6.3 : 1.0\n",
      "               affecting = True              pos : neg    =      6.2 : 1.0\n",
      "            breathtaking = True              pos : neg    =      6.1 : 1.0\n",
      "                  beware = True              neg : pos    =      5.7 : 1.0\n",
      "None\n"
     ]
    }
   ],
   "source": [
    "#Naive Bayes - Natural Language Processing With Python and NLTK p.13\n",
    "\n",
    "import nltk\n",
    "import random\n",
    "from nltk.corpus import movie_reviews\n",
    "from nltk.classify import *\n",
    "\n",
    "documents = [(list(movie_reviews.words(fileid)), category)\n",
    "              for category in movie_reviews.categories()\n",
    "              for fileid in movie_reviews.fileids(category)]\n",
    "\n",
    "random.shuffle(documents)\n",
    "\n",
    "all_words = []\n",
    "\n",
    "for w in movie_reviews.words():\n",
    "    all_words.append(w.lower())\n",
    "    \n",
    "all_words = nltk.FreqDist(all_words)\n",
    "\n",
    "word_features = list(all_words.keys())[:3000]\n",
    "\n",
    "def find_features(document):\n",
    "    words = set(document)\n",
    "    features = {}\n",
    "    for w in word_features:\n",
    "        features[w]= (w in words)\n",
    "    return features\n",
    "\n",
    "#print(find_features(movie_reviews.words('neg/cv000_29416.txt')))\n",
    "\n",
    "featuresets =[(find_features(rev), category) for (rev, category) in documents]\n",
    "\n",
    "training_set = featuresets[:1900] \n",
    "testing_set = featuresets[1900:]\n",
    "\n",
    "classifier = nltk.NaiveBayesClassifier.train(training_set)\n",
    "print(\"Naive Bayes Algo accuracy percent:\", (nltk.classify.accuracy(classifier, testing_set))* 100)\n",
    "print(classifier.show_most_informative_features(15))\n",
    "\n",
    "\n",
    "\n"
   ]
  }
 ],
 "metadata": {
  "kernelspec": {
   "display_name": "Python 3",
   "language": "python",
   "name": "python3"
  },
  "language_info": {
   "codemirror_mode": {
    "name": "ipython",
    "version": 3
   },
   "file_extension": ".py",
   "mimetype": "text/x-python",
   "name": "python",
   "nbconvert_exporter": "python",
   "pygments_lexer": "ipython3",
   "version": "3.5.2"
  }
 },
 "nbformat": 4,
 "nbformat_minor": 2
}
