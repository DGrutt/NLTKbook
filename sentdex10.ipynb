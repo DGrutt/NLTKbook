{
 "cells": [
  {
   "cell_type": "code",
   "execution_count": 14,
   "metadata": {},
   "outputs": [
    {
     "name": "stdout",
     "output_type": "stream",
     "text": [
      "plan.n.01\n",
      "plan\n",
      "a series of steps to be carried out or goals to be accomplished\n",
      "['they drew up a six-step plan', 'they discussed plans for a new bond issue']\n",
      "{'skilful', 'right', 'beneficial', 'secure', 'full', 'honorable', 'practiced', 'estimable', 'serious', 'sound', 'commodity', 'good', 'effective', 'salutary', 'respectable', 'well', 'expert', 'dear', 'unspoiled', 'honest', 'just', 'near', 'in_effect', 'proficient', 'adept', 'soundly', 'unspoilt', 'trade_good', 'undecomposed', 'safe', 'thoroughly', 'dependable', 'goodness', 'ripe', 'upright', 'in_force', 'skillful'}\n",
      "{'ill', 'bad', 'badness', 'evil', 'evilness'}\n",
      "0.9090909090909091\n",
      "0.6956521739130435\n",
      "0.32\n",
      "0.38095238095238093\n",
      "0.09090909090909091\n"
     ]
    }
   ],
   "source": [
    "#WordNet - Natural Language Processing With Python and NLTK p.10\n",
    "\n",
    "from nltk.corpus import wordnet\n",
    "\n",
    "syns = wordnet.synsets(\"program\")\n",
    "\n",
    "#synset\n",
    "print(syns[0].name())\n",
    "\n",
    "#just the word\n",
    "print(syns[0].lemmas()[0].name())\n",
    "\n",
    "# definition\n",
    "print(syns[0].definition())\n",
    "\n",
    "# examples \n",
    "print(syns[0].examples())\n",
    "\n",
    "#\n",
    "synonyms = []\n",
    "antonyms = []\n",
    "\n",
    "for syn in wordnet.synsets(\"good\"):\n",
    "    for l in syn.lemmas():\n",
    "        synonyms.append(l.name())\n",
    "        if l.antonyms():\n",
    "            antonyms.append(l.antonyms()[0].name())\n",
    "            \n",
    "print(set(synonyms))\n",
    "print(set(antonyms))\n",
    "\n",
    "w1 = wordnet.synset(\"ship.n.01\")\n",
    "w2 = wordnet.synset(\"boat.n.01\")\n",
    "\n",
    "print(w1.wup_similarity(w2))\n",
    "\n",
    "w1 = wordnet.synset(\"ship.n.01\")\n",
    "w2 = wordnet.synset(\"car.n.01\")\n",
    "\n",
    "print(w1.wup_similarity(w2))\n",
    "\n",
    "w1 = wordnet.synset(\"ship.n.01\")\n",
    "w2 = wordnet.synset(\"cat.n.01\")\n",
    "\n",
    "print(w1.wup_similarity(w2))\n",
    "\n",
    "w1 = wordnet.synset(\"ship.n.01\")\n",
    "w2 = wordnet.synset(\"cactus.n.01\")\n",
    "\n",
    "print(w1.wup_similarity(w2))\n",
    "\n",
    "w1 = wordnet.synset(\"ship.n.01\")\n",
    "w2 = wordnet.synset(\"sprint.n.01\")\n",
    "\n",
    "print(w1.wup_similarity(w2))\n",
    "        \n",
    "        \n"
   ]
  }
 ],
 "metadata": {
  "kernelspec": {
   "display_name": "Python 3",
   "language": "python",
   "name": "python3"
  },
  "language_info": {
   "codemirror_mode": {
    "name": "ipython",
    "version": 3
   },
   "file_extension": ".py",
   "mimetype": "text/x-python",
   "name": "python",
   "nbconvert_exporter": "python",
   "pygments_lexer": "ipython3",
   "version": "3.6.2"
  }
 },
 "nbformat": 4,
 "nbformat_minor": 2
}
