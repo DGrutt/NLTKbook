{
 "cells": [
  {
   "cell_type": "code",
   "execution_count": 82,
   "metadata": {},
   "outputs": [
    {
     "name": "stdout",
     "output_type": "stream",
     "text": [
      "this is a test\n",
      "this is a test\n"
     ]
    }
   ],
   "source": [
    "\"\"\"Write code that removes whitespace at the beginning and end of a string, and normalizes whitespace between words to be a single space character.\n",
    "\n",
    "do this task using split() and join()\n",
    "do this task using regular expression substitutions\"\"\"\n",
    "import re\n",
    "\n",
    "def normalizeWhitespace(string):\n",
    "    tmp=string.split()\n",
    "    tmp= ' '.join(tmp)\n",
    "    return tmp\n",
    "\n",
    "test =\"this  is    a              test\"\n",
    "print(normalizeWhitespace(test))\n",
    "\n",
    "\n",
    "def normalizeWhiteRegular(string):\n",
    "    return re.sub(' +', ' ', string)\n",
    "print(normalizeWhiteRegular(test))\n",
    "        "
   ]
  }
 ],
 "metadata": {
  "kernelspec": {
   "display_name": "Python 3",
   "language": "python",
   "name": "python3"
  },
  "language_info": {
   "codemirror_mode": {
    "name": "ipython",
    "version": 3
   },
   "file_extension": ".py",
   "mimetype": "text/x-python",
   "name": "python",
   "nbconvert_exporter": "python",
   "pygments_lexer": "ipython3",
   "version": "3.6.2"
  }
 },
 "nbformat": 4,
 "nbformat_minor": 2
}
